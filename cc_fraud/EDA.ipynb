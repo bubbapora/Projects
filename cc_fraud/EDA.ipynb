{
 "cells": [
  {
   "cell_type": "markdown",
   "metadata": {},
   "source": [
    "# Package Import and Read Data"
   ]
  },
  {
   "cell_type": "code",
   "execution_count": 1,
   "metadata": {},
   "outputs": [],
   "source": [
    "import pandas as pd\n",
    "import matplotlib.pyplot as plt\n",
    "import numpy as np\n",
    "import seaborn as sns\n",
    "from random import sample\n",
    "from sklearn.metrics import recall_score"
   ]
  },
  {
   "cell_type": "code",
   "execution_count": 2,
   "metadata": {},
   "outputs": [],
   "source": [
    "df = pd.read_parquet('creditcard.parquet')"
   ]
  },
  {
   "cell_type": "markdown",
   "metadata": {},
   "source": [
    "## Basic EDA"
   ]
  },
  {
   "cell_type": "code",
   "execution_count": 3,
   "metadata": {},
   "outputs": [
    {
     "data": {
      "text/html": [
       "<div>\n",
       "<style scoped>\n",
       "    .dataframe tbody tr th:only-of-type {\n",
       "        vertical-align: middle;\n",
       "    }\n",
       "\n",
       "    .dataframe tbody tr th {\n",
       "        vertical-align: top;\n",
       "    }\n",
       "\n",
       "    .dataframe thead th {\n",
       "        text-align: right;\n",
       "    }\n",
       "</style>\n",
       "<table border=\"1\" class=\"dataframe\">\n",
       "  <thead>\n",
       "    <tr style=\"text-align: right;\">\n",
       "      <th></th>\n",
       "      <th>Time</th>\n",
       "      <th>V1</th>\n",
       "      <th>V2</th>\n",
       "      <th>V3</th>\n",
       "      <th>V4</th>\n",
       "      <th>V5</th>\n",
       "      <th>V6</th>\n",
       "      <th>V7</th>\n",
       "      <th>V8</th>\n",
       "      <th>V9</th>\n",
       "      <th>...</th>\n",
       "      <th>V21</th>\n",
       "      <th>V22</th>\n",
       "      <th>V23</th>\n",
       "      <th>V24</th>\n",
       "      <th>V25</th>\n",
       "      <th>V26</th>\n",
       "      <th>V27</th>\n",
       "      <th>V28</th>\n",
       "      <th>Amount</th>\n",
       "      <th>Class</th>\n",
       "    </tr>\n",
       "  </thead>\n",
       "  <tbody>\n",
       "    <tr>\n",
       "      <th>0</th>\n",
       "      <td>0.0</td>\n",
       "      <td>-1.359807</td>\n",
       "      <td>-0.072781</td>\n",
       "      <td>2.536347</td>\n",
       "      <td>1.378155</td>\n",
       "      <td>-0.338321</td>\n",
       "      <td>0.462388</td>\n",
       "      <td>0.239599</td>\n",
       "      <td>0.098698</td>\n",
       "      <td>0.363787</td>\n",
       "      <td>...</td>\n",
       "      <td>-0.018307</td>\n",
       "      <td>0.277838</td>\n",
       "      <td>-0.110474</td>\n",
       "      <td>0.066928</td>\n",
       "      <td>0.128539</td>\n",
       "      <td>-0.189115</td>\n",
       "      <td>0.133558</td>\n",
       "      <td>-0.021053</td>\n",
       "      <td>149.62</td>\n",
       "      <td>0</td>\n",
       "    </tr>\n",
       "    <tr>\n",
       "      <th>1</th>\n",
       "      <td>0.0</td>\n",
       "      <td>1.191857</td>\n",
       "      <td>0.266151</td>\n",
       "      <td>0.166480</td>\n",
       "      <td>0.448154</td>\n",
       "      <td>0.060018</td>\n",
       "      <td>-0.082361</td>\n",
       "      <td>-0.078803</td>\n",
       "      <td>0.085102</td>\n",
       "      <td>-0.255425</td>\n",
       "      <td>...</td>\n",
       "      <td>-0.225775</td>\n",
       "      <td>-0.638672</td>\n",
       "      <td>0.101288</td>\n",
       "      <td>-0.339846</td>\n",
       "      <td>0.167170</td>\n",
       "      <td>0.125895</td>\n",
       "      <td>-0.008983</td>\n",
       "      <td>0.014724</td>\n",
       "      <td>2.69</td>\n",
       "      <td>0</td>\n",
       "    </tr>\n",
       "    <tr>\n",
       "      <th>2</th>\n",
       "      <td>1.0</td>\n",
       "      <td>-1.358354</td>\n",
       "      <td>-1.340163</td>\n",
       "      <td>1.773209</td>\n",
       "      <td>0.379780</td>\n",
       "      <td>-0.503198</td>\n",
       "      <td>1.800499</td>\n",
       "      <td>0.791461</td>\n",
       "      <td>0.247676</td>\n",
       "      <td>-1.514654</td>\n",
       "      <td>...</td>\n",
       "      <td>0.247998</td>\n",
       "      <td>0.771679</td>\n",
       "      <td>0.909412</td>\n",
       "      <td>-0.689281</td>\n",
       "      <td>-0.327642</td>\n",
       "      <td>-0.139097</td>\n",
       "      <td>-0.055353</td>\n",
       "      <td>-0.059752</td>\n",
       "      <td>378.66</td>\n",
       "      <td>0</td>\n",
       "    </tr>\n",
       "    <tr>\n",
       "      <th>3</th>\n",
       "      <td>1.0</td>\n",
       "      <td>-0.966272</td>\n",
       "      <td>-0.185226</td>\n",
       "      <td>1.792993</td>\n",
       "      <td>-0.863291</td>\n",
       "      <td>-0.010309</td>\n",
       "      <td>1.247203</td>\n",
       "      <td>0.237609</td>\n",
       "      <td>0.377436</td>\n",
       "      <td>-1.387024</td>\n",
       "      <td>...</td>\n",
       "      <td>-0.108300</td>\n",
       "      <td>0.005274</td>\n",
       "      <td>-0.190321</td>\n",
       "      <td>-1.175575</td>\n",
       "      <td>0.647376</td>\n",
       "      <td>-0.221929</td>\n",
       "      <td>0.062723</td>\n",
       "      <td>0.061458</td>\n",
       "      <td>123.50</td>\n",
       "      <td>0</td>\n",
       "    </tr>\n",
       "    <tr>\n",
       "      <th>4</th>\n",
       "      <td>2.0</td>\n",
       "      <td>-1.158233</td>\n",
       "      <td>0.877737</td>\n",
       "      <td>1.548718</td>\n",
       "      <td>0.403034</td>\n",
       "      <td>-0.407193</td>\n",
       "      <td>0.095921</td>\n",
       "      <td>0.592941</td>\n",
       "      <td>-0.270533</td>\n",
       "      <td>0.817739</td>\n",
       "      <td>...</td>\n",
       "      <td>-0.009431</td>\n",
       "      <td>0.798278</td>\n",
       "      <td>-0.137458</td>\n",
       "      <td>0.141267</td>\n",
       "      <td>-0.206010</td>\n",
       "      <td>0.502292</td>\n",
       "      <td>0.219422</td>\n",
       "      <td>0.215153</td>\n",
       "      <td>69.99</td>\n",
       "      <td>0</td>\n",
       "    </tr>\n",
       "  </tbody>\n",
       "</table>\n",
       "<p>5 rows × 31 columns</p>\n",
       "</div>"
      ],
      "text/plain": [
       "   Time        V1        V2        V3        V4        V5        V6        V7  \\\n",
       "0   0.0 -1.359807 -0.072781  2.536347  1.378155 -0.338321  0.462388  0.239599   \n",
       "1   0.0  1.191857  0.266151  0.166480  0.448154  0.060018 -0.082361 -0.078803   \n",
       "2   1.0 -1.358354 -1.340163  1.773209  0.379780 -0.503198  1.800499  0.791461   \n",
       "3   1.0 -0.966272 -0.185226  1.792993 -0.863291 -0.010309  1.247203  0.237609   \n",
       "4   2.0 -1.158233  0.877737  1.548718  0.403034 -0.407193  0.095921  0.592941   \n",
       "\n",
       "         V8        V9  ...       V21       V22       V23       V24       V25  \\\n",
       "0  0.098698  0.363787  ... -0.018307  0.277838 -0.110474  0.066928  0.128539   \n",
       "1  0.085102 -0.255425  ... -0.225775 -0.638672  0.101288 -0.339846  0.167170   \n",
       "2  0.247676 -1.514654  ...  0.247998  0.771679  0.909412 -0.689281 -0.327642   \n",
       "3  0.377436 -1.387024  ... -0.108300  0.005274 -0.190321 -1.175575  0.647376   \n",
       "4 -0.270533  0.817739  ... -0.009431  0.798278 -0.137458  0.141267 -0.206010   \n",
       "\n",
       "        V26       V27       V28  Amount  Class  \n",
       "0 -0.189115  0.133558 -0.021053  149.62      0  \n",
       "1  0.125895 -0.008983  0.014724    2.69      0  \n",
       "2 -0.139097 -0.055353 -0.059752  378.66      0  \n",
       "3 -0.221929  0.062723  0.061458  123.50      0  \n",
       "4  0.502292  0.219422  0.215153   69.99      0  \n",
       "\n",
       "[5 rows x 31 columns]"
      ]
     },
     "execution_count": 3,
     "metadata": {},
     "output_type": "execute_result"
    }
   ],
   "source": [
    "df.head()"
   ]
  },
  {
   "cell_type": "code",
   "execution_count": 4,
   "metadata": {},
   "outputs": [
    {
     "name": "stdout",
     "output_type": "stream",
     "text": [
      "Observation Count: 284807\n",
      "Null count: 0\n",
      "Percent of observations classified as fraud: 0.173%\n"
     ]
    }
   ],
   "source": [
    "print(f'Observation Count: {len(df)}')\n",
    "print(f'Null count: {df.isnull().sum().sum()}')\n",
    "print(f'Percent of observations classified as fraud: {round(df.Class.sum()/len(df)*100,3)}%')"
   ]
  },
  {
   "cell_type": "code",
   "execution_count": 5,
   "metadata": {},
   "outputs": [
    {
     "data": {
      "image/png": "[encoded data removed]",
      "text/plain": [
       "<Figure size 720x576 with 2 Axes>"
      ]
     },
     "metadata": {
      "needs_background": "light"
     },
     "output_type": "display_data"
    }
   ],
   "source": [
    "# Do we have any correlations?\n",
    "# As all our variables are the output of PCA, there should not be a drop of correlation anywhere\n",
    "\n",
    "# leave out a few variables\n",
    "to_leave_out = ['Time','Class','Amount']\n",
    "corr_cols = [c for c in df.columns if c not in to_leave_out]\n",
    "\n",
    "c = df[corr_cols].corr()\n",
    "\n",
    "f,ax = plt.subplots(figsize=(10,8))\n",
    "ax = sns.heatmap(c,xticklabels=corr_cols,yticklabels=corr_cols);"
   ]
  },
  {
   "cell_type": "markdown",
   "metadata": {},
   "source": [
    " - The absence of correlation will make our lives easier here. We won't have to worry about bias as much, nor regularization."
   ]
  },
  {
   "cell_type": "markdown",
   "metadata": {},
   "source": [
    "## Time plots"
   ]
  },
  {
   "cell_type": "code",
   "execution_count": 6,
   "metadata": {},
   "outputs": [
    {
     "data": {
      "image/png": "[encoded data removed]",
      "text/plain": [
       "<Figure size 576x288 with 1 Axes>"
      ]
     },
     "metadata": {
      "needs_background": "light"
     },
     "output_type": "display_data"
    }
   ],
   "source": [
    "df.Time.hist(figsize=(8,4), bins=100);"
   ]
  },
  {
   "cell_type": "code",
   "execution_count": 7,
   "metadata": {},
   "outputs": [],
   "source": [
    "df['hour'] = df['Time']/60/60"
   ]
  },
  {
   "cell_type": "code",
   "execution_count": 8,
   "metadata": {},
   "outputs": [
    {
     "data": {
      "image/png": "[encoded data removed]",
      "text/plain": [
       "<Figure size 720x432 with 1 Axes>"
      ]
     },
     "metadata": {
      "needs_background": "light"
     },
     "output_type": "display_data"
    }
   ],
   "source": [
    "from matplotlib.axis import YAxis\n",
    "\n",
    "\n",
    "plt.figure(figsize=(10,6))\n",
    "\n",
    "plt.hist(df['hour'], bins=48)\n",
    "plt.ylabel('Hour')\n",
    "plt.title('Transactions per Hour')\n",
    "\n",
    "ax = plt.gca()\n",
    "ax.axes.yaxis.set_visible(False)\n",
    "\n",
    "plt.show()"
   ]
  },
  {
   "cell_type": "code",
   "execution_count": 9,
   "metadata": {},
   "outputs": [
    {
     "name": "stdout",
     "output_type": "stream",
     "text": [
      "48 hrs elapsed over the course of the dataset\n"
     ]
    }
   ],
   "source": [
    "print(f\"{int(round(df.Time.max()/60/60,0))} hrs elapsed over the course of the dataset\")"
   ]
  },
  {
   "cell_type": "code",
   "execution_count": 10,
   "metadata": {},
   "outputs": [],
   "source": [
    "df['hour_bin'] = pd.cut(df['Time']/60/60, np.arange(round(df.Time.max()/60/60, 0)))"
   ]
  },
  {
   "cell_type": "code",
   "execution_count": 11,
   "metadata": {},
   "outputs": [],
   "source": [
    "binned_counts = df.groupby('hour_bin').agg(\n",
    "    record_count=pd.NamedAgg(column='Time', aggfunc='count'),\n",
    "    fraud_count=pd.NamedAgg(column='Class', aggfunc='sum')\n",
    "    ).reset_index()"
   ]
  },
  {
   "cell_type": "code",
   "execution_count": 12,
   "metadata": {},
   "outputs": [
    {
     "data": {
      "image/png": "[encoded data removed]",
      "text/plain": [
       "<Figure size 864x576 with 2 Axes>"
      ]
     },
     "metadata": {
      "needs_background": "light"
     },
     "output_type": "display_data"
    }
   ],
   "source": [
    "fig = plt.figure(figsize=(12,8))\n",
    "\n",
    "ax = fig.add_subplot(111)\n",
    "ax2 = ax.twinx()\n",
    "\n",
    "binned_counts.record_count.plot(kind='bar', color='blue', ax=ax, alpha=.45)\n",
    "binned_counts.fraud_count.plot(kind='bar', color='red', ax=ax2, alpha=.45)\n",
    "\n",
    "ax.set_xlabel('Hour')\n",
    "ax.set_ylabel('Record Count')\n",
    "ax2.set_ylabel('Fraud Count')\n",
    "plt.title('Records and Fraud Cases Over Time')\n",
    "\n",
    "plt.show()"
   ]
  },
  {
   "cell_type": "markdown",
   "metadata": {},
   "source": [
    "# Create Baseline model"
   ]
  },
  {
   "cell_type": "code",
   "execution_count": 13,
   "metadata": {},
   "outputs": [],
   "source": [
    "from sklearn.linear_model import LogisticRegression\n",
    "from sklearn.model_selection import train_test_split\n",
    "from sklearn.preprocessing import StandardScaler\n",
    "from sklearn.metrics import confusion_matrix"
   ]
  },
  {
   "cell_type": "code",
   "execution_count": 42,
   "metadata": {},
   "outputs": [],
   "source": [
    "feats = [col for col in df.columns if 'V' in col]\n",
    "\n",
    "x = df[feats + ['Amount']]\n",
    "y = df['Class']\n",
    "\n",
    "X_train, X_test, y_train, y_test = train_test_split(\n",
    "    x, y,\n",
    "    test_size=.2,\n",
    "    stratify=y,\n",
    "    random_state=41)"
   ]
  },
  {
   "cell_type": "code",
   "execution_count": 15,
   "metadata": {},
   "outputs": [],
   "source": [
    "def assess_model_performance(data, training_features, labels, model, sample_weights=None):\n",
    "    if sample_weights is not None:\n",
    "        model.fit(data[training_features], labels, sample_weight=sample_weights)\n",
    "    else:\n",
    "        model.fit(data[training_features], labels)\n",
    "    yhat = model.predict(data[training_features])\n",
    "    model_recall = recall_score(labels, yhat)*100\n",
    "    print(\"Classification Training Performance:\")\n",
    "    print(f\"Recall: {model_recall:.2f}\")\n",
    "\n",
    "    print(\"\\nFinancial Training Performance:\")\n",
    "    perf_df = pd.DataFrame({'Amount':data['Amount'], 'Actual':labels, 'Pred':yhat})\n",
    "    perf_df['fraud_amount'] = perf_df['Amount']*perf_df['Actual']\n",
    "    perf_df['fraud_prevented'] = perf_df['fraud_amount']*perf_df['Pred']\n",
    "    perf_df['fraud_realized'] = perf_df['fraud_amount'] - perf_df['fraud_prevented']\n",
    "    print(f\"Recall: {(perf_df['fraud_prevented'].sum() / (perf_df['fraud_prevented'].sum() + perf_df['fraud_realized'].sum()))*100:.2f}%\")"
   ]
  },
  {
   "cell_type": "code",
   "execution_count": 16,
   "metadata": {},
   "outputs": [
    {
     "name": "stdout",
     "output_type": "stream",
     "text": [
      "Classification Training Performance:\n",
      "Recall: 64.47\n",
      "\n",
      "Financial Training Performance:\n",
      "Recall: 54.55%\n"
     ]
    }
   ],
   "source": [
    "baseline_model = LogisticRegression(max_iter=500)\n",
    "\n",
    "assess_model_performance(X_train, feats, y_train, baseline_model)"
   ]
  },
  {
   "cell_type": "code",
   "execution_count": 40,
   "metadata": {},
   "outputs": [],
   "source": [
    "def assess_test_set_performance(model):\n",
    "    yhat = model.predict(X_test[feats])\n",
    "    model_recall = recall_score(y_test, yhat)*100\n",
    "    print(\"Classification Test Performance:\")\n",
    "    print(f\"Recall: {model_recall:.2f}\")\n",
    "    \n",
    "    # calculate financial performance\n",
    "    perf_df = pd.DataFrame({'Amount':X_test['Amount'], 'Actual':y_test, 'Pred':yhat})\n",
    "    perf_df['fraud_amount'] = perf_df['Amount']*perf_df['Actual']\n",
    "    perf_df['fraud_prevented'] = perf_df['fraud_amount']*perf_df['Pred']\n",
    "    perf_df['fraud_realized'] = perf_df['fraud_amount'] - perf_df['fraud_prevented']\n",
    "\n",
    "    print()\n",
    "    print(\"Financial Test Performance:\")\n",
    "    print(f\"Recall: {(perf_df['fraud_prevented'].sum() / (perf_df['fraud_prevented'].sum() + perf_df['fraud_realized'].sum()))*100:.2f}%\")"
   ]
  },
  {
   "cell_type": "code",
   "execution_count": 43,
   "metadata": {},
   "outputs": [
    {
     "name": "stdout",
     "output_type": "stream",
     "text": [
      "Classification Test Performance:\n",
      "Recall: 59.18\n",
      "\n",
      "Financial Test Performance:\n",
      "Recall: 60.83%\n"
     ]
    }
   ],
   "source": [
    "baseline_model = LogisticRegression()\n",
    "\n",
    "baseline_model.fit(X_train[feats], y_train)\n",
    "\n",
    "assess_test_set_performance(baseline_model)"
   ]
  },
  {
   "cell_type": "markdown",
   "metadata": {},
   "source": [
    "# Add sample weights"
   ]
  },
  {
   "cell_type": "code",
   "execution_count": 18,
   "metadata": {},
   "outputs": [
    {
     "name": "stdout",
     "output_type": "stream",
     "text": [
      "Performance using dollar amount as weight\n",
      "Classification Training Performance:\n",
      "Recall: 74.11\n",
      "\n",
      "Financial Training Performance:\n",
      "Recall: 68.93%\n"
     ]
    }
   ],
   "source": [
    "print(\"Performance using dollar amount as weight\")\n",
    "model_with_sample_weights = LogisticRegression(max_iter=500)\n",
    "\n",
    "assess_model_performance(X_train, feats, y_train, model_with_sample_weights, sample_weights=X_train['Amount'])"
   ]
  },
  {
   "cell_type": "code",
   "execution_count": 19,
   "metadata": {},
   "outputs": [
    {
     "name": "stdout",
     "output_type": "stream",
     "text": [
      "Performance using dollar amount as weight\n",
      "Classification Performance on Test:\n",
      "Recall: 67.35\n",
      "\n",
      "Financial Performance on Test:\n",
      "Recall: 61.58%\n"
     ]
    }
   ],
   "source": [
    "print(\"Performance using dollar amount as weight\")\n",
    "mod_v2 = LogisticRegression(max_iter=500)\n",
    "\n",
    "mod_v2.fit(X_train[feats], y_train, sample_weight=X_train['Amount'])\n",
    "\n",
    "yhat = mod_v2.predict(X_test[feats])\n",
    "model_recall = recall_score(y_test, yhat)*100\n",
    "print(\"Classification Performance on Test:\")\n",
    "print(f\"Recall: {model_recall:.2f}\")\n",
    "\n",
    "print(\"\\nFinancial Performance on Test:\")\n",
    "perf_df = pd.DataFrame({'Amount':X_test['Amount'], 'Actual':y_test, 'Pred':yhat})\n",
    "perf_df['fraud_amount'] = perf_df['Amount']*perf_df['Actual']\n",
    "perf_df['fraud_prevented'] = perf_df['fraud_amount']*perf_df['Pred']\n",
    "perf_df['fraud_realized'] = perf_df['fraud_amount'] - perf_df['fraud_prevented']\n",
    "print(f\"Recall: {(perf_df['fraud_prevented'].sum() / (perf_df['fraud_prevented'].sum() + perf_df['fraud_realized'].sum()))*100:.2f}%\")"
   ]
  },
  {
   "cell_type": "markdown",
   "metadata": {},
   "source": [
    "# Using scaled amounts"
   ]
  },
  {
   "cell_type": "code",
   "execution_count": 20,
   "metadata": {},
   "outputs": [],
   "source": [
    "from sklearn.preprocessing import RobustScaler\n",
    "scaler = RobustScaler()\n",
    "X_train['scaled_amount'] = scaler.fit_transform(X_train['Amount'].values.reshape(-1,1))\n",
    "X_test['scaled_amount'] = scaler.transform(X_test['Amount'].values.reshape(-1,1))"
   ]
  },
  {
   "cell_type": "code",
   "execution_count": 21,
   "metadata": {},
   "outputs": [
    {
     "name": "stdout",
     "output_type": "stream",
     "text": [
      "Classification Training Performance:\n",
      "Recall: 88.07\n",
      "\n",
      "Financial Training Performance:\n",
      "Recall: 47.01%\n",
      "\n",
      "Performance using dollar amount as weight\n",
      "Classification Performance on Test:\n",
      "Recall: 92.86\n",
      "\n",
      "Financial Performance on Test:\n",
      "Recall: 66.81%\n"
     ]
    }
   ],
   "source": [
    "assess_model_performance(X_train, feats, y_train, model_with_sample_weights, sample_weights=X_train['scaled_amount'])\n",
    "\n",
    "print(\"\\nPerformance using dollar amount as weight\")\n",
    "mod_v3 = LogisticRegression(max_iter=500)\n",
    "\n",
    "mod_v3.fit(X_train[feats], y_train, sample_weight=X_train['scaled_amount'])\n",
    "\n",
    "yhat = mod_v3.predict(X_test[feats])\n",
    "model_recall = recall_score(y_test, yhat)*100\n",
    "print(\"Classification Performance on Test:\")\n",
    "print(f\"Recall: {model_recall:.2f}\")\n",
    "\n",
    "print(\"\\nFinancial Performance on Test:\")\n",
    "perf_df = pd.DataFrame({'Amount':X_test['Amount'], 'Actual':y_test, 'Pred':yhat})\n",
    "perf_df['fraud_amount'] = perf_df['Amount']*perf_df['Actual']\n",
    "perf_df['fraud_prevented'] = perf_df['fraud_amount']*perf_df['Pred']\n",
    "perf_df['fraud_realized'] = perf_df['fraud_amount'] - perf_df['fraud_prevented']\n",
    "print(f\"Recall: {(perf_df['fraud_prevented'].sum() / (perf_df['fraud_prevented'].sum() + perf_df['fraud_realized'].sum()))*100:.2f}%\")"
   ]
  },
  {
   "cell_type": "markdown",
   "metadata": {},
   "source": [
    "# Modifying class weights"
   ]
  },
  {
   "cell_type": "code",
   "execution_count": 22,
   "metadata": {},
   "outputs": [
    {
     "data": {
      "text/plain": [
       "array([  0.50086612, 289.14340102])"
      ]
     },
     "execution_count": 22,
     "metadata": {},
     "output_type": "execute_result"
    }
   ],
   "source": [
    "# default class weight\n",
    "len(X_train) / (2 * np.bincount(y_train))"
   ]
  },
  {
   "cell_type": "code",
   "execution_count": 23,
   "metadata": {},
   "outputs": [
    {
     "data": {
      "text/plain": [
       "0.0017301038062283738"
      ]
     },
     "execution_count": 23,
     "metadata": {},
     "output_type": "execute_result"
    }
   ],
   "source": [
    ".5/289"
   ]
  },
  {
   "cell_type": "code",
   "execution_count": 24,
   "metadata": {},
   "outputs": [
    {
     "data": {
      "text/plain": [
       "0.0017391304347826088"
      ]
     },
     "execution_count": 24,
     "metadata": {},
     "output_type": "execute_result"
    }
   ],
   "source": [
    "1/575"
   ]
  },
  {
   "cell_type": "code",
   "execution_count": 46,
   "metadata": {},
   "outputs": [
    {
     "name": "stdout",
     "output_type": "stream",
     "text": [
      "Classification Test Performance:\n",
      "Recall: 89.80\n",
      "\n",
      "Financial Test Performance:\n",
      "Recall: 92.83%\n"
     ]
    }
   ],
   "source": [
    "lr_class_weights = LogisticRegression(class_weight='balanced')\n",
    "lr_class_weights.fit(X_train[feats], y_train)\n",
    "\n",
    "assess_test_set_performance(lr_class_weights)"
   ]
  }
 ],
 "metadata": {
  "kernelspec": {
   "display_name": "Python 3.9.7 ('datasci')",
   "language": "python",
   "name": "python3"
  },
  "language_info": {
   "codemirror_mode": {
    "name": "ipython",
    "version": 3
   },
   "file_extension": ".py",
   "mimetype": "text/x-python",
   "name": "python",
   "nbconvert_exporter": "python",
   "pygments_lexer": "ipython3",
   "version": "3.9.7"
  },
  "toc": {
   "base_numbering": 1,
   "nav_menu": {},
   "number_sections": true,
   "sideBar": true,
   "skip_h1_title": false,
   "title_cell": "Table of Contents",
   "title_sidebar": "Contents",
   "toc_cell": true,
   "toc_position": {},
   "toc_section_display": true,
   "toc_window_display": false
  },
  "vscode": {
   "interpreter": {
    "hash": "4db142e636097d815a266793cc9d1ccc5562e01f6011ca43fe9f149b1e4f502b"
   }
  }
 },
 "nbformat": 4,
 "nbformat_minor": 2
}
